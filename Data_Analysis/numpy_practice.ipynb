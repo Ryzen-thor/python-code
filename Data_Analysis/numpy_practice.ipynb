{
 "cells": [
  {
   "cell_type": "markdown",
   "id": "6d9c3a7f",
   "metadata": {},
   "source": [
    "Numy practice"
   ]
  },
  {
   "cell_type": "code",
   "execution_count": 2,
   "id": "f2e63c46",
   "metadata": {},
   "outputs": [],
   "source": [
    "import numpy as np"
   ]
  },
  {
   "cell_type": "code",
   "execution_count": null,
   "id": "134646ce",
   "metadata": {},
   "outputs": [],
   "source": [
    "np."
   ]
  }
 ],
 "metadata": {
  "kernelspec": {
   "display_name": "Python 3",
   "language": "python",
   "name": "python3"
  },
  "language_info": {
   "codemirror_mode": {
    "name": "ipython",
    "version": 3
   },
   "file_extension": ".py",
   "mimetype": "text/x-python",
   "name": "python",
   "nbconvert_exporter": "python",
   "pygments_lexer": "ipython3",
   "version": "3.13.3"
  }
 },
 "nbformat": 4,
 "nbformat_minor": 5
}
